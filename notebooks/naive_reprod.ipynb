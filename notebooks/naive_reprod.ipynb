{
  "cells": [
    {
      "cell_type": "code",
      "execution_count": 1,
      "metadata": {
        "colab": {
          "base_uri": "https://localhost:8080/"
        },
        "id": "IEsN2Fm7VeKX",
        "outputId": "aeb1bdcb-dab0-4ac6-96e6-42afb492766a"
      },
      "outputs": [
        {
          "name": "stderr",
          "output_type": "stream",
          "text": [
            "Cloning into 'liquid_time_constant_networks'...\n"
          ]
        }
      ],
      "source": [
        "!git clone https://github.com/tnmtvv/liquid_time_constant_networks.git"
      ]
    },
    {
      "cell_type": "code",
      "execution_count": 5,
      "metadata": {
        "colab": {
          "base_uri": "https://localhost:8080/"
        },
        "id": "0J09FmOYWMSj",
        "outputId": "ee84519d-17fb-4fa7-c43d-37ae3552ac55"
      },
      "outputs": [
        {
          "name": "stdout",
          "output_type": "stream",
          "text": [
            "c:\\Users\\tanya\\GitHub\\LiquidNNs\\liquid_time_constant_networks\\experiments_with_ltcs\n"
          ]
        }
      ],
      "source": [
        "%cd ../liquid_time_constant_networks/experiments_with_ltcs"
      ]
    },
    {
      "cell_type": "markdown",
      "metadata": {},
      "source": [
        "Alternative download option to bash "
      ]
    },
    {
      "cell_type": "code",
      "execution_count": 13,
      "metadata": {
        "id": "nxb5_vYVXMaK"
      },
      "outputs": [
        {
          "name": "stdout",
          "output_type": "stream",
          "text": [
            "Downloading https://archive.ics.uci.edu/ml/machine-learning-databases/00240/UCI%20HAR%20Dataset.zip...\n",
            "Downloaded: UCI_HAR_Dataset.zip\n",
            "Extracting UCI_HAR_Dataset.zip to data/har...\n",
            "Extraction complete: data/har\n",
            "Downloading https://archive.ics.uci.edu/ml/machine-learning-databases/00302/gesture_phase_dataset.zip...\n",
            "Downloaded: gesture_phase_dataset.zip\n",
            "Extracting gesture_phase_dataset.zip to data/gesture...\n",
            "Extraction complete: data/gesture\n",
            "Downloading https://archive.ics.uci.edu/ml/machine-learning-databases/00357/occupancy_data.zip...\n",
            "Downloaded: occupancy_data.zip\n",
            "Extracting occupancy_data.zip to data/occupancy...\n",
            "Extraction complete: data/occupancy\n",
            "Downloading https://archive.ics.uci.edu/ml/machine-learning-databases/00492/Metro_Interstate_Traffic_Volume.csv.gz...\n",
            "Downloaded: Metro_Interstate_Traffic_Volume.csv.gz\n",
            "Extracting Metro_Interstate_Traffic_Volume.csv.gz to data/traffic/Metro_Interstate_Traffic_Volume.csv...\n",
            "Extraction complete: data/traffic/Metro_Interstate_Traffic_Volume.csv\n",
            "Downloading https://archive.ics.uci.edu/ml/machine-learning-databases/ozone/eighthr.data...\n",
            "Downloaded: eighthr.data\n",
            "Downloading https://archive.ics.uci.edu/ml/machine-learning-databases/00235/household_power_consumption.zip...\n",
            "Downloaded: household_power_consumption.zip\n",
            "Extracting household_power_consumption.zip to data/power...\n",
            "Extraction complete: data/power\n",
            "Downloading https://archive.ics.uci.edu/ml/machine-learning-databases/00196/ConfLongDemo_JSI.txt...\n",
            "Downloaded: ConfLongDemo_JSI.txt\n",
            "\n",
            "All datasets downloaded and organized successfully!\n"
          ]
        }
      ],
      "source": [
        "import os\n",
        "import requests\n",
        "import zipfile\n",
        "import gzip\n",
        "import shutil\n",
        "\n",
        "# Helper function to download a file\n",
        "def download_file(url, output_path):\n",
        "    print(f\"Downloading {url}...\")\n",
        "    response = requests.get(url, stream=True)\n",
        "    with open(output_path, \"wb\") as file:\n",
        "        shutil.copyfileobj(response.raw, file)\n",
        "    print(f\"Downloaded: {output_path}\")\n",
        "\n",
        "# Helper function to extract ZIP files\n",
        "def extract_zip(file_path, extract_to):\n",
        "    print(f\"Extracting {file_path} to {extract_to}...\")\n",
        "    with zipfile.ZipFile(file_path, \"r\") as zip_ref:\n",
        "        zip_ref.extractall(extract_to)\n",
        "    print(f\"Extraction complete: {extract_to}\")\n",
        "\n",
        "# Helper function to extract GZ files\n",
        "def extract_gz(file_path, output_path):\n",
        "    print(f\"Extracting {file_path} to {output_path}...\")\n",
        "    with gzip.open(file_path, \"rb\") as gz_file:\n",
        "        with open(output_path, \"wb\") as out_file:\n",
        "            shutil.copyfileobj(gz_file, out_file)\n",
        "    print(f\"Extraction complete: {output_path}\")\n",
        "\n",
        "# Create a base data directory\n",
        "os.makedirs(\"data\", exist_ok=True)\n",
        "\n",
        "# Dataset 1: Human Activity Data\n",
        "download_file(\"https://archive.ics.uci.edu/ml/machine-learning-databases/00240/UCI%20HAR%20Dataset.zip\", \"UCI_HAR_Dataset.zip\")\n",
        "os.makedirs(\"data/har\", exist_ok=True)\n",
        "extract_zip(\"UCI_HAR_Dataset.zip\", \"data/har\")\n",
        "os.remove(\"UCI_HAR_Dataset.zip\")\n",
        "\n",
        "# Dataset 2: Gesture Data\n",
        "download_file(\"https://archive.ics.uci.edu/ml/machine-learning-databases/00302/gesture_phase_dataset.zip\", \"gesture_phase_dataset.zip\")\n",
        "os.makedirs(\"data/gesture\", exist_ok=True)\n",
        "extract_zip(\"gesture_phase_dataset.zip\", \"data/gesture\")\n",
        "os.remove(\"gesture_phase_dataset.zip\")\n",
        "\n",
        "# Dataset 3: Occupancy Data\n",
        "download_file(\"https://archive.ics.uci.edu/ml/machine-learning-databases/00357/occupancy_data.zip\", \"occupancy_data.zip\")\n",
        "os.makedirs(\"data/occupancy\", exist_ok=True)\n",
        "extract_zip(\"occupancy_data.zip\", \"data/occupancy\")\n",
        "os.remove(\"occupancy_data.zip\")\n",
        "\n",
        "# Dataset 4: Traffic Data\n",
        "download_file(\"https://archive.ics.uci.edu/ml/machine-learning-databases/00492/Metro_Interstate_Traffic_Volume.csv.gz\", \"Metro_Interstate_Traffic_Volume.csv.gz\")\n",
        "os.makedirs(\"data/traffic\", exist_ok=True)\n",
        "extract_gz(\"Metro_Interstate_Traffic_Volume.csv.gz\", \"data/traffic/Metro_Interstate_Traffic_Volume.csv\")\n",
        "os.remove(\"Metro_Interstate_Traffic_Volume.csv.gz\")\n",
        "\n",
        "# Dataset 5: Ozone Data\n",
        "download_file(\"https://archive.ics.uci.edu/ml/machine-learning-databases/ozone/eighthr.data\", \"eighthr.data\")\n",
        "os.makedirs(\"data/ozone\", exist_ok=True)\n",
        "shutil.move(\"eighthr.data\", \"data/ozone/eighthr.data\")\n",
        "\n",
        "# Dataset 6: Household Power Consumption Data\n",
        "download_file(\"https://archive.ics.uci.edu/ml/machine-learning-databases/00235/household_power_consumption.zip\", \"household_power_consumption.zip\")\n",
        "os.makedirs(\"data/power\", exist_ok=True)\n",
        "extract_zip(\"household_power_consumption.zip\", \"data/power\")\n",
        "os.remove(\"household_power_consumption.zip\")\n",
        "\n",
        "# Dataset 7: Person Data\n",
        "download_file(\"https://archive.ics.uci.edu/ml/machine-learning-databases/00196/ConfLongDemo_JSI.txt\", \"ConfLongDemo_JSI.txt\")\n",
        "os.makedirs(\"data/person\", exist_ok=True)\n",
        "shutil.move(\"ConfLongDemo_JSI.txt\", \"data/person/ConfLongDemo_JSI.txt\")\n",
        "\n",
        "print(\"\\nAll datasets downloaded and organized successfully!\")\n"
      ]
    },
    {
      "cell_type": "code",
      "execution_count": null,
      "metadata": {},
      "outputs": [],
      "source": [
        "!pythonw ozone.py --model ltc --epoch 200 --log 5 > output.log 2> error.log"
      ]
    },
    {
      "cell_type": "code",
      "execution_count": null,
      "metadata": {},
      "outputs": [],
      "source": []
    }
  ],
  "metadata": {
    "colab": {
      "provenance": []
    },
    "kernelspec": {
      "display_name": "liquid_env",
      "language": "python",
      "name": "python3"
    },
    "language_info": {
      "codemirror_mode": {
        "name": "ipython",
        "version": 3
      },
      "file_extension": ".py",
      "mimetype": "text/x-python",
      "name": "python",
      "nbconvert_exporter": "python",
      "pygments_lexer": "ipython3",
      "version": "3.7.12"
    }
  },
  "nbformat": 4,
  "nbformat_minor": 0
}
